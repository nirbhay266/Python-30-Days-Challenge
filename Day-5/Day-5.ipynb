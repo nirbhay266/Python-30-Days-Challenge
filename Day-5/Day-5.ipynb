{
 "cells": [
  {
   "cell_type": "code",
   "execution_count": null,
   "id": "41795222",
   "metadata": {},
   "outputs": [
    {
     "name": "stdout",
     "output_type": "stream",
     "text": [
      "Total of item1: 1500\n",
      "Total of item2: 1000\n"
     ]
    }
   ],
   "source": [
    "# A function is a block of code which only runs when it is called.\n",
    "\n",
    "# You can pass data, known as parameters, into a function.\n",
    "\n",
    "# A function can return data as a result.\n",
    "def add_items(items):\n",
    "    total=0\n",
    "    for item in items:\n",
    "        total += item \n",
    "    return total\n",
    "item1=[200,250,300,350,400]\n",
    "item2=[100,150,200,250,300]\n",
    "\n",
    "print(\"Total of item1:\", add_items(item1))\n",
    "print(\"Total of item2:\", add_items(item2))"
   ]
  },
  {
   "cell_type": "code",
   "execution_count": 12,
   "id": "3a47c93f",
   "metadata": {},
   "outputs": [
    {
     "name": "stdout",
     "output_type": "stream",
     "text": [
      "Sum of 10, 20, 30: 60\n"
     ]
    }
   ],
   "source": [
    "def sum(a,b,c):\n",
    "    su=a + b + c\n",
    "    return su\n",
    "print(\"Sum of 10, 20, 30:\", sum(10, 20, 30))\n"
   ]
  },
  {
   "cell_type": "code",
   "execution_count": 14,
   "id": "f388d336",
   "metadata": {},
   "outputs": [
    {
     "name": "stdout",
     "output_type": "stream",
     "text": [
      "Value A:=  10\n",
      "Value B:=  20\n",
      "Total value is:  30\n"
     ]
    }
   ],
   "source": [
    "def sum(a,b):\n",
    "    total=0\n",
    "    print(\"Value A:= \",a)\n",
    "    print(\"Value B:= \",b)\n",
    "    total=a+b\n",
    "    print(\"Total value is: \", total)\n",
    "sum(10, 20)\n",
    "    \n"
   ]
  },
  {
   "cell_type": "code",
   "execution_count": 18,
   "id": "a71bbaf9",
   "metadata": {},
   "outputs": [
    {
     "name": "stdout",
     "output_type": "stream",
     "text": [
      "0\n",
      "Value A:=  10\n",
      "Value B:=  20\n",
      "Total value is:  30\n"
     ]
    }
   ],
   "source": [
    "total=0\n",
    "def sum(a,b):\n",
    "    total=0\n",
    "    print(\"Value A:= \",a)\n",
    "    print(\"Value B:= \",b)\n",
    "    total=a+b\n",
    "    return total\n",
    "print(total)\n",
    "print(\"Total value is: \", sum(10, 20))"
   ]
  },
  {
   "cell_type": "code",
   "execution_count": 23,
   "id": "b1c92657",
   "metadata": {},
   "outputs": [
    {
     "name": "stdout",
     "output_type": "stream",
     "text": [
      "Sum of 10, 20, 30, 40: 100\n"
     ]
    }
   ],
   "source": [
    "# If you do not know how many arguments that will be passed into your function, add a * before the parameter name in the function definition.\n",
    "# This way the function will receive a tuple of arguments, and can access the items accordingly:\n",
    "def sum(*args):\n",
    "    total = 0\n",
    "    for arg in args:\n",
    "        total += arg\n",
    "    return total\n",
    "print(\"Sum of 10, 20, 30, 40:\", sum(10, 20, 30, 40))\n"
   ]
  },
  {
   "cell_type": "code",
   "execution_count": 26,
   "id": "2c273372",
   "metadata": {},
   "outputs": [
    {
     "name": "stdout",
     "output_type": "stream",
     "text": [
      "The youngest child is Tobias\n"
     ]
    }
   ],
   "source": [
    "def my_function(*kids):\n",
    "  print(\"The youngest child is \" + kids[1])\n",
    "\n",
    "my_function(\"Emil\", \"Tobias\", \"Linus\")"
   ]
  },
  {
   "cell_type": "code",
   "execution_count": null,
   "id": "0faf3760",
   "metadata": {},
   "outputs": [
    {
     "name": "stdout",
     "output_type": "stream",
     "text": [
      "The youngest child is Linus\n"
     ]
    }
   ],
   "source": [
    "# Keyword Arguments\n",
    "# You can also send arguments with the key = value syntax.\n",
    "\n",
    "# This way the order of the arguments does not matter.\n",
    "def children(child1, child2, child3):\n",
    "    print(\"The youngest child is \" + child3)\n",
    "\n",
    "children(child1=\"Emil\", child2=\"Tobias\", child3=\"Linus\")\n"
   ]
  },
  {
   "cell_type": "code",
   "execution_count": 29,
   "id": "696a093b",
   "metadata": {},
   "outputs": [
    {
     "name": "stdout",
     "output_type": "stream",
     "text": [
      "I am from USA\n",
      "I am from Canada\n",
      "I am from India\n"
     ]
    }
   ],
   "source": [
    "# Default Parameter Value\n",
    "# The following example shows how to use a default parameter value.\n",
    "\n",
    "# If we call the function without argument, it uses the default value:\n",
    "def my_country(country=\"India\"):\n",
    "    print(\"I am from \" + country)\n",
    "my_country(\"USA\")\n",
    "my_country(\"Canada\")\n",
    "my_country() # This will use the default value \"India\""
   ]
  },
  {
   "cell_type": "code",
   "execution_count": 16,
   "id": "ffc2cda8",
   "metadata": {},
   "outputs": [
    {
     "name": "stdout",
     "output_type": "stream",
     "text": [
      "Total of item3: 3500\n"
     ]
    }
   ],
   "source": [
    "def add_items2(items):\n",
    "    total=0\n",
    "    for item in items:\n",
    "        total += item \n",
    "    return total\n",
    "item3=[500,600,700,800,900]\n",
    "print(\"Total of item3:\", add_items2(item3))\n"
   ]
  },
  {
   "cell_type": "code",
   "execution_count": null,
   "id": "0273dcdf",
   "metadata": {},
   "outputs": [
    {
     "name": "stdout",
     "output_type": "stream",
     "text": [
      "['apple', 'banana', 'cherry']\n",
      "samosa\n",
      "pani puri\n",
      "biryani\n",
      "pasta\n",
      "pizza\n",
      "burger\n",
      "dosa\n",
      "idli\n"
     ]
    }
   ],
   "source": [
    "# Passing a List as an Argument\n",
    "# You can send any data types of argument to a function (string, number, list, dictionary etc.), \n",
    "# and it will be treated as the same data type inside the function.\n",
    "def my_food(food):\n",
    "    for x in food:\n",
    "        print(x)\n",
    "fruits=[\"apple\", \"banana\", \"cherry\"],\"samosa\",\"pani puri\",\"biryani\",\"pasta\",\"pizza\",\"burger\",\"dosa\",\"idli\"\n",
    "my_food(fruits)"
   ]
  },
  {
   "cell_type": "code",
   "execution_count": 33,
   "id": "1655d09e",
   "metadata": {},
   "outputs": [
    {
     "name": "stdout",
     "output_type": "stream",
     "text": [
      "30\n"
     ]
    }
   ],
   "source": [
    "#  Lambda\n",
    "# A lambda function is a small anonymous function.\n",
    "\n",
    "# A lambda function can take any number of arguments, but can only have one expression.\n",
    "x=lambda a,b:a+b\n",
    "print(x(10,20))"
   ]
  },
  {
   "cell_type": "code",
   "execution_count": null,
   "id": "c5bb5408",
   "metadata": {},
   "outputs": [
    {
     "name": "stdout",
     "output_type": "stream",
     "text": [
      "20000\n"
     ]
    }
   ],
   "source": [
    "#Multiply argument a with argument b and return the result:\n",
    "x=lambda a,b:a*b\n",
    "print(x(100,200))"
   ]
  },
  {
   "cell_type": "code",
   "execution_count": 35,
   "id": "87ec9f45",
   "metadata": {},
   "outputs": [
    {
     "name": "stdout",
     "output_type": "stream",
     "text": [
      "Even numbers in the list: [20, 30, 40, 50]\n"
     ]
    }
   ],
   "source": [
    "numbers=[11,20,21,23,30,31,40,41,51,50]\n",
    "evenn=list(filter(lambda x: (x % 2 == 0), numbers))\n",
    "print(\"Even numbers in the list:\", evenn)\n"
   ]
  }
 ],
 "metadata": {
  "kernelspec": {
   "display_name": "base",
   "language": "python",
   "name": "python3"
  },
  "language_info": {
   "codemirror_mode": {
    "name": "ipython",
    "version": 3
   },
   "file_extension": ".py",
   "mimetype": "text/x-python",
   "name": "python",
   "nbconvert_exporter": "python",
   "pygments_lexer": "ipython3",
   "version": "3.12.7"
  }
 },
 "nbformat": 4,
 "nbformat_minor": 5
}

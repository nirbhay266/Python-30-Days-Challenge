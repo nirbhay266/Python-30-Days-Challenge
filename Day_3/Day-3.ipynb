{
 "cells": [
  {
   "cell_type": "markdown",
   "id": "0c1d34e1",
   "metadata": {},
   "source": [
    "                                                    #**Day-3 Python Challenge **\n",
    "                                                          # LIST PYTHON\n",
    "# A list in Python is a built-in ordered and mutable collection of items, which can hold elements of different data types such as integers, strings, floats,\n",
    "# or even other lists. Lists are defined using square brackets [], and the items are separated by commas.\n",
    "\n",
    "# Because lists are mutable, you can add, remove, or change items after the list has been created. Lists also allow duplicate values, and each item in a list\n",
    "# can be accessed using its index, starting from 0."
   ]
  },
  {
   "cell_type": "markdown",
   "id": "3468ed46",
   "metadata": {},
   "source": [
    "                                                            <!-- Key Characteristics:\n",
    "Ordered: Items have a fixed order and that order will not change unless you change it manually.\n",
    "\n",
    "Mutable: You can modify a list after creating it.\n",
    "\n",
    "Allows Duplicates: Lists can contain the same value more than once.\n",
    "\n",
    "Heterogeneous: Items in a list can be of different data types. -->"
   ]
  },
  {
   "cell_type": "code",
   "execution_count": 23,
   "id": "6a458053",
   "metadata": {},
   "outputs": [
    {
     "name": "stdout",
     "output_type": "stream",
     "text": [
      "['apple', 'banana', 'cherry', 'orange', 'kiwi', 'melon', 'mango']\n",
      "banana\n",
      "mango\n",
      "['banana', 'cherry']\n",
      "['apple', 'banana', 'cherry']\n",
      "['cherry', 'orange', 'kiwi', 'melon', 'mango']\n",
      "['cherry', 'orange']\n"
     ]
    }
   ],
   "source": [
    "#Access List Items\n",
    "fruits = [\"apple\", \"banana\", \"cherry\",\"orange\", \"kiwi\", \"melon\", \"mango\"]\n",
    "print(fruits)\n",
    "\n",
    "#List items are indexed and you can access them by referring to the index number:\n",
    "\n",
    "print(fruits[1])\n",
    "\n",
    "#Negative indexing means start from the end\n",
    "\n",
    "print(fruits[-1])\n",
    "\n",
    "#You can specify a range of indexes by specifying where to start and where to end the range.\n",
    "#When specifying a range, the return value will be a new list with the specified items.\n",
    "#Note: The search will start at index 2 (included) and end at index 5 (not included).\n",
    "\n",
    "print(fruits[1:3])\n",
    "#By leaving out the start value, the range will start at the first item:\n",
    "print(fruits[:3])\n",
    "#By leaving out the end value, the range will go on to the end of the list:\n",
    "print(fruits[2:])\n",
    "#Range of Negative Indexes:-Specify negative indexes if you want to start the search from the end of the list:\n",
    "print(fruits[2:4])"
   ]
  },
  {
   "cell_type": "code",
   "execution_count": 24,
   "id": "c4b987d6",
   "metadata": {},
   "outputs": [
    {
     "name": "stdout",
     "output_type": "stream",
     "text": [
      "['apple', 'banana', 'mango', 'orange', 'kiwi', 'melon', 'mango']\n",
      "['apple', 'Sani', 'Saty', 'kiwi', 'melon', 'mango']\n",
      "['apple', 'Sani', 'Saty', 'Cherry', 'kiwi', 'melon', 'mango']\n",
      "['apple', 'Sani', 'Bnana', 'Saty', 'Cherry', 'kiwi', 'melon', 'mango']\n",
      "['apple', 'orange', 'Sani', 'Bnana', 'Saty', 'Cherry', 'kiwi', 'melon', 'mango']\n"
     ]
    }
   ],
   "source": [
    "                                              #Change Item Value\n",
    "#To change the value of a specific item, refer to the index number: -->\n",
    "fruits = [\"apple\", \"banana\", \"cherry\",\"orange\", \"kiwi\", \"melon\", \"mango\"]\n",
    "fruits[2]=\"mango\"\n",
    "print(fruits)\n",
    "\n",
    "#To change the value of items within a specific range, define a list with the new values, and refer to the range of index \n",
    "# numbers where you want to insert the new values:\n",
    "fruits = [\"apple\", \"banana\", \"cherry\",\"orange\", \"kiwi\", \"melon\", \"mango\"]\n",
    "fruits[1:4]=[\"Sani\",\"Saty\"]\n",
    "print(fruits)\n",
    "\n",
    "                                                        #Insert Items\n",
    "# To insert a new list item, without replacing any of the existing values, we can use the insert() method.\n",
    "# The insert() method inserts an item at the specified index:\n",
    "\n",
    "fruits.insert(3,\"Cherry\")\n",
    "print(fruits)\n",
    "fruits.insert(2,\"Bnana\")\n",
    "print(fruits)\n",
    "fruits.insert(1,\"orange\")\n",
    "print(fruits)\n"
   ]
  },
  {
   "cell_type": "code",
   "execution_count": 25,
   "id": "4933623e",
   "metadata": {},
   "outputs": [
    {
     "name": "stdout",
     "output_type": "stream",
     "text": [
      "['apple', 'orange', 'Sani', 'Bnana', 'Saty', 'Cherry', 'kiwi', 'melon', 'mango', 'orange']\n",
      "['apple', 'orange', 'kiwi', 'Sani', 'Bnana', 'Saty', 'Cherry', 'kiwi', 'melon', 'mango', 'orange']\n",
      "['apple', 'orange', 'kiwi', 'Sani', 'Bnana', 'Saty', 'Cherry', 'kiwi', 'melon', 'mango', 'orange', 'carrot', 'potato', 'cabbage', 'Sani', 'Saty', 'Nirbhay', 'Nitya', 'Ramu', 'Rani', 'Sita']\n",
      "['apple', 'orange', 'kiwi', 'Sani', 'Bnana', 'Saty', 'Cherry', 'kiwi', 'melon', 'mango', 'orange', 'carrot', 'potato', 'cabbage', 'Sani', 'Saty', 'Nirbhay', 'Nitya', 'Ramu', 'Rani', 'Sita', 'carrot', 'potato', 'cabbage']\n",
      "['apple', 'orange', 'kiwi', 'Sani', 'Bnana', 'Saty', 'Cherry', 'kiwi', 'melon', 'mango', 'orange', 'carrot', 'potato', 'cabbage', 'Sani', 'Saty', 'Nirbhay', 'Nitya', 'Ramu', 'Rani', 'Sita', 'carrot', 'potato', 'cabbage', 'Sani', 'Saty', 'Nirbhay', 'Nitya', 'Ramu', 'Rani', 'Sita']\n",
      "['apple', 'orange', 'kiwi', 'Sani', 'Bnana', 'Saty', 'Cherry', 'kiwi', 'melon', 'mango', 'orange', 'carrot', 'potato', 'cabbage', 'Sani', 'Saty', 'Nirbhay', 'Nitya', 'Ramu', 'Rani', 'Sita', 'carrot', 'potato', 'cabbage', 'Sani', 'Saty', 'Nirbhay', 'Nitya', 'Ramu', 'Rani', 'Sita', 'apple', 'orange', 'kiwi', 'Sani', 'Bnana', 'Saty', 'Cherry', 'kiwi', 'melon', 'mango', 'orange', 'carrot', 'potato', 'cabbage', 'Sani', 'Saty', 'Nirbhay', 'Nitya', 'Ramu', 'Rani', 'Sita', 'carrot', 'potato', 'cabbage', 'Sani', 'Saty', 'Nirbhay', 'Nitya', 'Ramu', 'Rani', 'Sita']\n"
     ]
    }
   ],
   "source": [
    "#Add List Items\n",
    "#To add an item to the end of the list, use the append() method:\n",
    "fruits.append(\"orange\") \n",
    "print(fruits)\n",
    "#To add an item at the specified index, use the insert() method:\n",
    "fruits.insert(2, \"kiwi\")\n",
    "print(fruits)\n",
    "#To append elements from another list to the current list, use the extend() method:\n",
    "vegetables = [\"carrot\", \"potato\", \"cabbage\"]\n",
    "fruits.extend(vegetables)\n",
    "name=[\"Sani\",\"Saty\",\"Nirbhay\",\"Nitya\",\"Ramu\",\"Rani\",\"Sita\"]\n",
    "fruits.extend(name)\n",
    "print(fruits)\n",
    "#To add elements from another list to the current list, using the + operator:\n",
    "fruits = fruits + vegetables\n",
    "print(fruits)\n",
    "#To add elements from another list to the current list, using the += operator:\n",
    "fruits += name\n",
    "print(fruits)\n",
    "#To add elements from another list to the current list, using the * operator:\n",
    "fruits = fruits * 2\n",
    "print(fruits)\n"
   ]
  },
  {
   "cell_type": "code",
   "execution_count": 26,
   "id": "01f86a4d",
   "metadata": {},
   "outputs": [
    {
     "name": "stdout",
     "output_type": "stream",
     "text": [
      "['apple', 'cherry', 'orange', 'kiwi', 'melon', 'mango']\n",
      "['apple', 'cherry', 'orange', 'melon', 'mango']\n",
      "['apple', 'banana', 'cherry', 'orange', 'kiwi', 'mango']\n",
      "['apple', 'banana', 'cherry', 'orange', 'kiwi']\n",
      "[]\n",
      "['banana', 'cherry', 'orange', 'kiwi', 'melon', 'mango']\n"
     ]
    }
   ],
   "source": [
    "# Remove Specified Item\n",
    "# The remove() method removes the specified item.\n",
    "#If there are more than one item with the specified value, the remove() method removes the first occurrence:\n",
    "fruits = [\"apple\", \"banana\", \"cherry\",\"orange\", \"kiwi\", \"melon\", \"mango\"]\n",
    "fruits.remove(\"banana\")\n",
    "print(fruits)\n",
    "fruits.remove(\"kiwi\")\n",
    "print(fruits)\n",
    "\n",
    "#The pop() method removes the specified index.\n",
    "fruits = [\"apple\", \"banana\", \"cherry\",\"orange\", \"kiwi\", \"melon\", \"mango\"]\n",
    "fruits.pop(5)\n",
    "print(fruits)\n",
    "#If you do not specify the index, the pop() method removes the last item.\n",
    "fruits.pop()\n",
    "print(fruits)\n",
    "\n",
    "# The clear() method empties the list.\n",
    "# The list still remains, but it has no content.\n",
    "fruits = [\"apple\", \"banana\", \"cherry\",\"orange\", \"kiwi\", \"melon\", \"mango\"]\n",
    "fruits.clear()\n",
    "print(fruits)\n",
    "# The del keyword removes the specified index:\n",
    "fruits = [\"apple\", \"banana\", \"cherry\",\"orange\", \"kiwi\", \"melon\", \"mango\"]\n",
    "del fruits[0]\n",
    "print(fruits)\n"
   ]
  },
  {
   "cell_type": "code",
   "execution_count": 27,
   "id": "ad7ac20e",
   "metadata": {},
   "outputs": [
    {
     "name": "stdout",
     "output_type": "stream",
     "text": [
      "['apple', 'banana', 'cherry', 'kiwi', 'mango', 'melon', 'orange']\n",
      "['orange', 'melon', 'mango', 'kiwi', 'cherry', 'banana', 'apple']\n",
      "[23, 50, 65, 82, 100]\n"
     ]
    }
   ],
   "source": [
    "# Sort List Alphanumerically\n",
    "# The sort() method sorts the list alphanumerically, ascending, by default:\n",
    "fruits = [\"apple\", \"banana\", \"cherry\",\"orange\", \"kiwi\", \"melon\", \"mango\"]\n",
    "fruits.sort()\n",
    "print(fruits)\n",
    "#You can also specify ascending or descending order:\n",
    "fruits.sort(reverse=True)\n",
    "print(fruits)\n",
    "#Sort List Numerically\n",
    "# The sort() method can also sort numbers:\n",
    "numbers = [100, 50, 65, 82, 23]\n",
    "numbers.sort()\n",
    "print(numbers)\n"
   ]
  },
  {
   "cell_type": "code",
   "execution_count": 28,
   "id": "d35fe9ef",
   "metadata": {},
   "outputs": [
    {
     "name": "stdout",
     "output_type": "stream",
     "text": [
      "['apple', 'banana', 'cherry', 'orange', 'kiwi', 'melon', 'mango']\n"
     ]
    }
   ],
   "source": [
    "# Copy Lists\n",
    "fruits = [\"apple\", \"banana\", \"cherry\",\"orange\", \"kiwi\", \"melon\", \"mango\"]\n",
    "frut=fruits.copy()\n",
    "print(frut)"
   ]
  },
  {
   "cell_type": "markdown",
   "id": "dd16b883",
   "metadata": {},
   "source": [
    "                                                        # Tuple\n",
    "# Tuples are used to store multiple items in a single variable.\n",
    "\n",
    "# Tuple is one of 4 built-in data types in Python used to store collections of data, the other 3 are List, Set, and Dictionary, all with different qualities and usage.\n",
    "\n",
    "# A tuple is a collection which is ordered and unchangeable.\n",
    "\n",
    "# Tuples are written with round brackets.\n",
    "\n",
    "# Example:-\n",
    "# Create a Tuple:\n",
    "# thistuple = (\"apple\", \"banana\", \"cherry\")\n",
    "# print(thistuple)\n",
    "\n",
    "# Tuple Items\n",
    "# Tuple items are ordered, unchangeable, and allow duplicate values.\n",
    "\n",
    "# Tuple items are indexed, the first item has index [0], the second item has index [1] etc.\n",
    "\n",
    "# Ordered\n",
    "# When we say that tuples are ordered, it means that the items have a defined order, and that order will not change.\n",
    "\n",
    "# Unchangeable\n",
    "# Tuples are unchangeable, meaning that we cannot change, add or remove items after the tuple has been created.\n",
    "\n",
    "# Allow Duplicates\n",
    "# Since tuples are indexed, they can have items with the same value:\n",
    "\n"
   ]
  },
  {
   "cell_type": "code",
   "execution_count": 34,
   "id": "10beee6c",
   "metadata": {},
   "outputs": [
    {
     "name": "stdout",
     "output_type": "stream",
     "text": [
      "('apple', 'banana', 'cherry')\n",
      "('apple', 'banana', 'cherry', 'apple', 'cherry')\n",
      "3\n",
      "<class 'tuple'>\n"
     ]
    }
   ],
   "source": [
    "thistuple = (\"apple\", \"banana\", \"cherry\")\n",
    "print(thistuple)\n",
    "#Tuples allow duplicate values:\n",
    "thistuple = (\"apple\", \"banana\", \"cherry\", \"apple\", \"cherry\")\n",
    "print(thistuple)\n",
    "#Tuple Length\n",
    "thistuple = (\"apple\", \"banana\", \"cherry\")\n",
    "print(len(thistuple))\n",
    "#Create Tuple With One Item\n",
    "# To create a tuple with only one item, you have to add a comma after the item, otherwise Python will not recognize it as a tuple.\n",
    "thistuple = (\"apple\",)\n",
    "print(type(thistuple))\n",
    "\n",
    "\n"
   ]
  },
  {
   "cell_type": "code",
   "execution_count": 39,
   "id": "4d160c45",
   "metadata": {},
   "outputs": [
    {
     "name": "stdout",
     "output_type": "stream",
     "text": [
      "banana\n",
      "cherry\n",
      "('cherry', 'apple')\n",
      "('apple', 'banana', 'cherry')\n",
      "('cherry', 'apple', 'cherry')\n",
      "('cherry', 'apple')\n",
      "cherry\n",
      "('banana', 'cherry', 'apple')\n"
     ]
    }
   ],
   "source": [
    "                                                # Access Tuple Items\n",
    "\n",
    "thistuple = (\"apple\", \"banana\", \"cherry\", \"apple\", \"cherry\")\n",
    "print(thistuple[1])\n",
    "#Negative Indexing\n",
    "print(thistuple[-1])\n",
    "print(thistuple[2:4])\n",
    "print(thistuple[:3])\n",
    "#This example returns the items from the beginning to, but NOT included, \"apply\":\n",
    "print(thistuple[2:])\n",
    "print(thistuple[2:4])\n",
    "#Negative Indexing\n",
    "# Specify Negative Indexes\n",
    "thistuple = (\"apple\", \"banana\", \"cherry\", \"apple\", \"cherry\")\n",
    "print(thistuple[-1])\n",
    "#Range of Negative Indexes\n",
    "print(thistuple[-4:-1])\n",
    "\n"
   ]
  },
  {
   "cell_type": "markdown",
   "id": "20bb6a43",
   "metadata": {},
   "source": [
    "                                                        # Change Tuple Values\n",
    "# Once a tuple is created, you cannot change its values. Tuples are unchangeable, or immutable as it also is called.\n",
    "# But there is a workaround. You can convert the tuple into a list, change the list, and convert the list back into a tuple."
   ]
  },
  {
   "cell_type": "code",
   "execution_count": 40,
   "id": "34e36c9d",
   "metadata": {},
   "outputs": [
    {
     "name": "stdout",
     "output_type": "stream",
     "text": [
      "['apple', 'banana', 'cherry']\n",
      "('apple', 'kiwi', 'cherry')\n"
     ]
    }
   ],
   "source": [
    "x = (\"apple\", \"banana\", \"cherry\")\n",
    "y=list(x)\n",
    "print(y)\n",
    "y[1] = \"kiwi\"\n",
    "x= tuple(y)\n",
    "print(x)"
   ]
  },
  {
   "cell_type": "markdown",
   "id": "be6543af",
   "metadata": {},
   "source": [
    "Add Items\n",
    "Since tuples are immutable, they do not have a built-in append() method, but there are other ways to add items to a tuple.\n",
    "\n",
    "1. Convert into a list: Just like the workaround for changing a tuple, you can convert it into a list, add your item(s), and convert it back into a tuple.\n",
    "\n",
    "2. Add tuple to a tuple. You are allowed to add tuples to tuples, so if you want to add one item, (or many), create a new tuple with the item(s), and add it to the existing tuple:\n",
    "\n",
    "\n"
   ]
  },
  {
   "cell_type": "code",
   "execution_count": 42,
   "id": "b3aad172",
   "metadata": {},
   "outputs": [
    {
     "name": "stdout",
     "output_type": "stream",
     "text": [
      "('apple', 'banana', 'cherry', 'orange')\n",
      "('apple', 'banana', 'cherry', 'orange', 'kiwi', 'melon')\n"
     ]
    }
   ],
   "source": [
    "#Example-1\n",
    "x = (\"apple\", \"banana\", \"cherry\")\n",
    "y=list(x)\n",
    "y.append(\"orange\")\n",
    "x = tuple(y)\n",
    "print(x)\n",
    "\n",
    "#Example-2\n",
    "x = (\"apple\", \"banana\", \"cherry\")\n",
    "y=(\"orange\", \"kiwi\", \"melon\")\n",
    "z = x + y\n",
    "print(z)"
   ]
  },
  {
   "cell_type": "markdown",
   "id": "cf125d6d",
   "metadata": {},
   "source": []
  },
  {
   "cell_type": "markdown",
   "id": "ebca5227",
   "metadata": {},
   "source": [
    "Remove Items\n",
    "Note: You cannot remove items in a tuple.\n",
    "\n",
    "Tuples are unchangeable, so you cannot remove items from it, but you can use the same workaround as we used for changing and adding tuple items:"
   ]
  },
  {
   "cell_type": "code",
   "execution_count": null,
   "id": "b36401e6",
   "metadata": {},
   "outputs": [
    {
     "name": "stdout",
     "output_type": "stream",
     "text": [
      "('apple', 'cherry', 'orange', 'kiwi', 'melon')\n"
     ]
    }
   ],
   "source": [
    "x=('apple', 'banana', 'cherry', 'orange', 'kiwi', 'melon')\n",
    "y=list(x)\n",
    "y.remove(\"banana\")\n",
    "x=tuple(y)\n",
    "print(x)\n"
   ]
  },
  {
   "cell_type": "code",
   "execution_count": 46,
   "id": "883c9d02",
   "metadata": {},
   "outputs": [
    {
     "name": "stdout",
     "output_type": "stream",
     "text": [
      "('apple', 'banana', 'cherry', 'orange', 'kiwi', 'melon', 'orange', 'kiwi', 'melon')\n",
      "2\n",
      "2\n",
      "('apple', 'banana', 'cherry', 'apple', 'banana', 'cherry', 'apple', 'banana', 'cherry')\n"
     ]
    }
   ],
   "source": [
    "                                                    # Join Tuples\n",
    "x=('apple', 'banana', 'cherry', 'orange', 'kiwi', 'melon')\n",
    "y=('orange', 'kiwi', 'melon')\n",
    "z=x+y\n",
    "print(z)\n",
    "#The count() method returns the number of times a specified value occurs in a tuple:\n",
    "x = ('apple', 'banana', 'cherry', 'orange', 'kiwi', 'melon', 'banana')\n",
    "print(x.count(\"banana\"))\n",
    "#The index() method finds the first occurrence of a specified value.\n",
    "print(x.index(\"cherry\"))\n",
    "#If you want to multiply the content of a tuple a given number of times, you can use the * operator:\n",
    "x = ('apple', 'banana', 'cherry')\n",
    "y=x*3\n",
    "print(y)\n",
    "\n"
   ]
  },
  {
   "cell_type": "markdown",
   "id": "44a49c26",
   "metadata": {},
   "source": [
    "                                                      **  Set**\n",
    "Sets are used to store multiple items in a single variable.\n",
    "\n",
    "A set is a collection which is unordered, unchangeable*, and unindexed.\n",
    "\n",
    "* Note: Set items are unchangeable, but you can remove items and add new items.\n",
    "\n",
    "Sets are written with curly brackets."
   ]
  },
  {
   "cell_type": "code",
   "execution_count": null,
   "id": "17b3f75b",
   "metadata": {},
   "outputs": [],
   "source": [
    "thisset = {\"apple\", \"banana\", \"cherry\"}\n",
    "print(thisset)"
   ]
  },
  {
   "cell_type": "markdown",
   "id": "9e0aa89f",
   "metadata": {},
   "source": [
    "                                                     **    ** Set Items****\n",
    "\n",
    "Set items are unordered, unchangeable, and do not allow duplicate values.\n",
    "\n",
    "**Unordered**\n",
    "Unordered means that the items in a set do not have a defined order.\n",
    "\n",
    "Set items can appear in a different order every time you use them, and cannot be referred to by index or key.\n",
    "\n",
    "**Unchangeable**\n",
    "Set items are unchangeable, meaning that we cannot change the items after the set has been created.\n",
    "\n",
    "Once a set is created, you cannot change its items, but you can remove items and add new items.\n",
    "\n",
    "**Duplicates Not Allowed**\n",
    "Sets cannot have two items with the same value."
   ]
  },
  {
   "cell_type": "code",
   "execution_count": 52,
   "id": "5b0372ab",
   "metadata": {},
   "outputs": [
    {
     "name": "stdout",
     "output_type": "stream",
     "text": [
      "{'cherry', 'apple', 'banana'}\n",
      "cherry\n",
      "apple\n",
      "banana\n",
      "True\n",
      "False\n"
     ]
    }
   ],
   "source": [
    "thisset = {\"apple\", \"banana\", \"cherry\"}\n",
    "print(thisset)\n",
    "\n",
    "# Access Items\n",
    "# You cannot access items in a set by referring to an index or a key.\n",
    "\n",
    "# But you can loop through the set items using a for loop, or ask if a\n",
    "# specified value is present in a set, by using the in keyword.\n",
    "\n",
    "thisset = {\"apple\", \"banana\", \"cherry\"}\n",
    "for x in thisset:\n",
    "    print(x)\n",
    "\n",
    "print(\"banana\" in thisset)\n",
    "print(\"banana\" not in thisset)"
   ]
  },
  {
   "cell_type": "code",
   "execution_count": 54,
   "id": "286689f2",
   "metadata": {},
   "outputs": [
    {
     "name": "stdout",
     "output_type": "stream",
     "text": [
      "{'cherry', 'Orange', 'apple', 'banana'}\n",
      "{'mango', 'Orange', 'papaya', 'pineapple', 'cherry', 'apple', 'banana'}\n"
     ]
    }
   ],
   "source": [
    "# Add Items\n",
    "# Once a set is created, you cannot change its items, but you can add new items.\n",
    "\n",
    "# To add one item to a set use the add() method.\n",
    "\n",
    "thisset = {\"apple\", \"banana\", \"cherry\"}\n",
    "thisset.add(\"Orange\")\n",
    "print(thisset)\n",
    "# Add Sets\n",
    "# To add items from another set into the current set, use the update() method.\n",
    "tropical = {\"pineapple\", \"mango\", \"papaya\"}\n",
    "thisset.update(tropical)\n",
    "print(thisset)"
   ]
  },
  {
   "cell_type": "code",
   "execution_count": 59,
   "id": "844f38ee",
   "metadata": {},
   "outputs": [
    {
     "name": "stdout",
     "output_type": "stream",
     "text": [
      "Original set: {'cherry', 'apple', 'banana'}\n",
      "After remove('banana'): {'cherry', 'apple'}\n",
      "After discard('banana'): {'cherry', 'apple'}\n"
     ]
    }
   ],
   "source": [
    "# Remove Item\n",
    "# To remove an item in a set, use the remove(), or the discard() method.\n",
    "# Create a set\n",
    "thisset = {\"apple\", \"banana\", \"cherry\"}\n",
    "\n",
    "# Print original set\n",
    "print(\"Original set:\", thisset)\n",
    "\n",
    "# Remove \"banana\" using remove()\n",
    "thisset.remove(\"banana\")\n",
    "print(\"After remove('banana'):\", thisset)\n",
    "\n",
    "# Try removing \"banana\" again using discard()\n",
    "thisset.discard(\"banana\")  # No error even if \"banana\" is not in the set\n",
    "print(\"After discard('banana'):\", thisset)\n"
   ]
  },
  {
   "cell_type": "markdown",
   "id": "b29fb94d",
   "metadata": {},
   "source": [
    "**Join Sets**\n",
    "There are several ways to join two or more sets in Python.\n",
    "\n",
    "The union() and update() methods joins all items from both sets.\n",
    "\n",
    "The intersection() method keeps ONLY the duplicates.\n",
    "\n",
    "The difference() method keeps the items from the first set that are not in the other set(s).\n",
    "\n",
    "The symmetric_difference() method keeps all items EXCEPT the duplicates.\n",
    "\n"
   ]
  },
  {
   "cell_type": "code",
   "execution_count": 73,
   "id": "fafcd9e1",
   "metadata": {},
   "outputs": [
    {
     "name": "stdout",
     "output_type": "stream",
     "text": [
      "{65, 'cherry', 5, 6, 7, 8, 44, 'banana', 76, 22, 87, 'apple'}\n",
      "{65, 66, 5, 6, 7, 8, 11, 76, 77, 22, 87, 33, 'cherry', 44, 'banana', 55, 'apple'}\n",
      "{65, 'cherry', 5, 6, 7, 8, 44, 'banana', 76, 22, 87, 'apple'}\n",
      "{65, 'cherry', 5, 6, 7, 8, 44, 'banana', 76, 22, 87, 'apple'}\n",
      "{'apple'}\n",
      "{1, 2, 3}\n",
      "{1, 2, 3}\n",
      "{1, 2, 3, 6, 7}\n"
     ]
    }
   ],
   "source": [
    "thisset = {\"apple\", \"banana\", \"cherry\"}\n",
    "num = {5, 6, 7, 8, 22, 44, 65, 76, 87}\n",
    "num2 = {11, 22, 33, 44, 55, 66, 77}\n",
    "\n",
    "# | is union operator (same as union())\n",
    "print(thisset | num)  # Mix of strings and integers\n",
    "\n",
    "# union of all three sets\n",
    "num3 = thisset.union(num, num2)\n",
    "\n",
    "# printing the original thisset (unchanged)\n",
    "print(num3)\n",
    "\n",
    "#Join a Set and a Tuple\n",
    "thisset = {\"apple\", \"banana\", \"cherry\"}\n",
    "num = (5, 6, 7, 8, 22, 44, 65, 76, 87)\n",
    "print(thisset.union(num))\n",
    "\n",
    "# Update\n",
    "# The update() method inserts all items from one set into another.\n",
    "\n",
    "# The update() changes the original set, and does not return a new set.\n",
    "\n",
    "thisset = {\"apple\", \"banana\", \"cherry\"}\n",
    "num = (5, 6, 7, 8, 22, 44, 65, 76, 87)\n",
    "thisset.update(num)\n",
    "print(thisset)\n",
    "\n",
    "#The intersection() method will return a new set, that only contains the items that are present in both sets.\n",
    "set1 = {\"apple\", \"banana\", \"cherry\"}\n",
    "set2 = {\"google\", \"microsoft\", \"apple\"}\n",
    "set3=set1.intersection(set2)\n",
    "print(set3)\n",
    "\n",
    "#The difference() method will return a new set that will contain only the items from the first set that are\n",
    "#not present in the other set.\n",
    "A = {1, 2, 3, 4, 5}\n",
    "B = {4, 5, 6, 7}\n",
    "c=A.difference(B)\n",
    "print(c)\n",
    "\n",
    "C=A-B\n",
    "print(C)\n",
    "\n",
    "#The symmetric_difference() method will keep only the elements that are NOT present in both sets\n",
    "A = {1, 2, 3, 4, 5}\n",
    "B = {4, 5, 6, 7}\n",
    "C=A.symmetric_difference(B)\n",
    "print(C)\n"
   ]
  },
  {
   "cell_type": "markdown",
   "id": "b6756dfe",
   "metadata": {},
   "source": [
    "**Dictionary**\n",
    "Dictionaries are used to store data values in key:value pairs.\n",
    "\n",
    "A dictionary is a collection which is ordered*, changeable and do not allow duplicates.\n",
    "\n",
    "Dictionaries are written with curly brackets, and have keys and values\n",
    "\n",
    "**Ordered or Unordered**\n",
    "When we say that dictionaries are ordered, it means that the items have a defined order, and that order will not change.\n",
    "\n",
    "Unordered means that the items do not have a defined order, you cannot refer to an item by using an index.\n",
    "\n",
    "**Changeable**\n",
    "Dictionaries are changeable, meaning that we can change, add or remove items after the dictionary has been created.\n",
    "\n",
    "**Duplicates Not Allowed**\n",
    "Dictionaries cannot have two items with the same key:\n"
   ]
  },
  {
   "cell_type": "code",
   "execution_count": null,
   "id": "0ff9ffde",
   "metadata": {},
   "outputs": [
    {
     "name": "stdout",
     "output_type": "stream",
     "text": [
      "{'brand': 'ford', 'model': 'mustand', 'year': 1989}\n",
      "ford\n",
      "1989\n",
      "{'brand': 'ford', 'model': 'mustand', 'year': 7468, 'colors': ['red', 'white', 'blue']}\n",
      "4\n",
      "blue\n",
      "['red', 'white', 'blue']\n",
      "dict_keys(['brand', 'model', 'year', 'colors', 'color'])\n",
      "dict_values(['ford', 'mustand', 7468, ['red', 'white', 'blue'], 'yellow'])\n",
      "dict_items([('brand', 'ford'), ('model', 'mustand'), ('year', 7468), ('colors', ['red', 'white', 'blue']), ('color', 'yellow')])\n"
     ]
    }
   ],
   "source": [
    "dic={\n",
    "    \"brand\":\"ford\",\n",
    "    \"model\":\"mustand\",\n",
    "    \"year\":1989\n",
    "}\n",
    "print(dic)\n",
    "print(dic[\"brand\"])\n",
    "print(dic[\"year\"])\n",
    "\n",
    "\n",
    "#Dictionaries cannot have two items with the same key:\n",
    "dic={\n",
    "    \"brand\":\"ford\",\n",
    "    \"model\":\"mustand\",\n",
    "    \"year\":1989,\n",
    "    \"year\":7468,\n",
    "    \"colors\": [\"red\", \"white\", \"blue\"]\n",
    "}\n",
    "print(dic)\n",
    "\n",
    "#Dictionary Length\n",
    "print(len(dic))\n",
    "print(dic[\"colors\"][2])\n",
    "d = dic.get(\"colors\", \"Not Found\")\n",
    "print(d)\n",
    "\n",
    "dic[\"color\"] = \"yellow\"\n",
    "\n",
    "#The keys() method will return a list of all the keys in the dictionary.\n",
    "print(dic.keys())\n",
    "\n",
    "#The values() method will return a list of all the values in the dictionary.\n",
    "print(dic.values())\n",
    "\n",
    "#The items() method will return each item in a dictionary, as tuples in a list.\n",
    "print(dic.items())\n",
    "    "
   ]
  },
  {
   "cell_type": "code",
   "execution_count": 94,
   "id": "763502b4",
   "metadata": {},
   "outputs": [
    {
     "name": "stdout",
     "output_type": "stream",
     "text": [
      "{'brand': 'ford', 'model': 'mustand', 'year': 1760, 'colors': ['red', 'white', 'blue']}\n",
      "{'brand': 'mahindra', 'model': 'mustand', 'year': 1760, 'colors': ['red', 'white', 'blue']}\n"
     ]
    }
   ],
   "source": [
    "# Change Values\n",
    "# You can change the value of a specific item by referring to its key name:\n",
    "\n",
    "car={\n",
    "    \"brand\":\"ford\",\n",
    "    \"model\":\"mustand\",\n",
    "    \"year\":1989,\n",
    "    \"year\":7468,\n",
    "    \"colors\": [\"red\", \"white\", \"blue\"]\n",
    "}\n",
    "car[\"year\"]=1760\n",
    "print(car)\n",
    "\n",
    "# The update() method will update the dictionary with the items from the given argument.\n",
    "# The argument must be a dictionary, or an iterable object with key:value pairs.\n",
    "car.update({\"brand\":\"mahindra\"})\n",
    "print(car)"
   ]
  },
  {
   "cell_type": "code",
   "execution_count": 98,
   "id": "3c5173cb",
   "metadata": {},
   "outputs": [
    {
     "name": "stdout",
     "output_type": "stream",
     "text": [
      "{'brand': 'ford', 'model': 'mustand', 'year': 7468, 'colors': 'red'}\n"
     ]
    }
   ],
   "source": [
    "# Adding Items\n",
    "# Adding an item to the dictionary is done by using a new index key and assigning a value to it:\n",
    "car={\n",
    "    \"brand\":\"ford\",\n",
    "    \"model\":\"mustand\",\n",
    "    \"year\":1989,\n",
    "    \"year\":7468,\n",
    "    \"colors\": [\"red\", \"white\", \"blue\"]\n",
    "}\n",
    "car[\"colors\"]=\"red\"\n",
    "print(car)\n",
    "\n",
    "car = {\n",
    "  \"brand\": \"Ford\",\n",
    "  \"model\": \"Mustang\",\n",
    "  \"year\": 1964\n",
    "}\n",
    "car.update({\"color\": \"red\"})"
   ]
  },
  {
   "cell_type": "code",
   "execution_count": 99,
   "id": "5d0ed650",
   "metadata": {},
   "outputs": [
    {
     "name": "stdout",
     "output_type": "stream",
     "text": [
      "{'brand': 'ford', 'year': 7468, 'colors': ['red', 'white', 'blue']}\n"
     ]
    }
   ],
   "source": [
    "# Removing Items\n",
    "# There are several methods to remove items from a dictionary:\n",
    "\n",
    "car={\n",
    "    \"brand\":\"ford\",\n",
    "    \"model\":\"mustand\",\n",
    "    \"year\":1989,\n",
    "    \"year\":7468,\n",
    "    \"colors\": [\"red\", \"white\", \"blue\"]\n",
    "}\n",
    "car.pop(\"model\")\n",
    "print(car)"
   ]
  },
  {
   "cell_type": "code",
   "execution_count": null,
   "id": "231880ea",
   "metadata": {},
   "outputs": [
    {
     "name": "stdout",
     "output_type": "stream",
     "text": [
      "\n",
      "Current Inventory:\n",
      "apple: 10\n",
      "banana: 5\n",
      "orange: 8\n",
      "\n",
      "5 added to existing item 'apple'.\n",
      "New item 'mango' added with quantity 12.\n",
      "Quantity of 'banana' updated to 10.\n",
      "Item 'orange' removed from inventory.\n",
      "\n",
      "Current Inventory:\n",
      "apple: 15\n",
      "banana: 10\n",
      "mango: 12\n",
      "\n"
     ]
    }
   ],
   "source": [
    "#- Create an inventory system tracking items and quantities with a dictionary\n",
    "\n",
    "# Initial Inventory\n",
    "inventory = {\n",
    "    \"apple\": 10,\n",
    "    \"banana\": 5,\n",
    "    \"orange\": 8\n",
    "}\n",
    "\n",
    "# Function to display inventory\n",
    "def display_inventory():\n",
    "    print(\"\\nCurrent Inventory:\")\n",
    "    for item, qty in inventory.items():\n",
    "        print(f\"{item}: {qty}\")\n",
    "    print()\n",
    "\n",
    "# Function to add/update item\n",
    "def add_item(item, quantity):\n",
    "    if item in inventory:\n",
    "        inventory[item] += quantity\n",
    "        print(f\"{quantity} added to existing item '{item}'.\")\n",
    "    else:\n",
    "        inventory[item] = quantity\n",
    "        print(f\"New item '{item}' added with quantity {quantity}.\")\n",
    "\n",
    "# Function to remove item\n",
    "def remove_item(item):\n",
    "    if item in inventory:\n",
    "        del inventory[item]\n",
    "        print(f\"Item '{item}' removed from inventory.\")\n",
    "    else:\n",
    "        print(f\"Item '{item}' not found.\")\n",
    "\n",
    "# Function to update quantity\n",
    "def update_quantity(item, quantity):\n",
    "    if item in inventory:\n",
    "        inventory[item] = quantity\n",
    "        print(f\"Quantity of '{item}' updated to {quantity}.\")\n",
    "    else:\n",
    "        print(f\"Item '{item}' not found.\")\n",
    "\n",
    "# ------------------------------\n",
    "# Sample Usage\n",
    "# ------------------------------\n",
    "display_inventory()\n",
    "\n",
    "add_item(\"apple\", 5)\n",
    "add_item(\"mango\", 12)\n",
    "update_quantity(\"banana\", 10)\n",
    "remove_item(\"orange\")\n",
    "\n",
    "display_inventory()\n"
   ]
  }
 ],
 "metadata": {
  "kernelspec": {
   "display_name": "base",
   "language": "python",
   "name": "python3"
  },
  "language_info": {
   "codemirror_mode": {
    "name": "ipython",
    "version": 3
   },
   "file_extension": ".py",
   "mimetype": "text/x-python",
   "name": "python",
   "nbconvert_exporter": "python",
   "pygments_lexer": "ipython3",
   "version": "3.12.7"
  }
 },
 "nbformat": 4,
 "nbformat_minor": 5
}
